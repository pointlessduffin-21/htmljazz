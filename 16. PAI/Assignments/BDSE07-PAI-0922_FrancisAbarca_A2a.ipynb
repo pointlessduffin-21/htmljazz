{
 "cells": [
  {
   "cell_type": "markdown",
   "id": "5799ebb1-2f92-4b65-a24a-79a4b8064177",
   "metadata": {},
   "source": [
    "Task 1: Understanding Data Types and Variables\n",
    "# Write a Python program that takes user input for their name, age, and height.\n",
    "# Display the type of each input variable and convert age and height to appropriate types."
   ]
  },
  {
   "cell_type": "code",
   "execution_count": 59,
   "id": "faf97a3b-a153-4aaa-8eb2-ee7e258d8498",
   "metadata": {},
   "outputs": [
    {
     "name": "stdin",
     "output_type": "stream",
     "text": [
      "Enter your name:  moses\n",
      "Enter your age:  21\n",
      "Enter your height (in cm):  180\n"
     ]
    },
    {
     "name": "stdout",
     "output_type": "stream",
     "text": [
      "Welcome moses\n",
      "You are 21 years old\n",
      "Your are: 180.0 cm tall\n"
     ]
    }
   ],
   "source": [
    "name = input(\"Enter your name: \")\n",
    "age = int(input(\"Enter your age: \"))\n",
    "height = float(input(\"Enter your height (in cm): \"))\n",
    "    \n",
    "print(f\"Welcome {name}\")\n",
    "print(f\"You are {age} years old\")\n",
    "print(f\"Your are: {height} cm tall\")"
   ]
  },
  {
   "cell_type": "markdown",
   "id": "0167fc12-1844-4fd6-9caf-f16c98777089",
   "metadata": {},
   "source": [
    "Task 2: If Comparison and String Comparison\n",
    "# Write a program that asks for a user's favorite color and a number.\n",
    "# If the color is \"Blue\" and the number is greater than 10, print \"Great choice!\" otherwise, print \"Nice selection!\""
   ]
  },
  {
   "cell_type": "code",
   "execution_count": 60,
   "id": "e57cbfd6-4b90-4f6e-9a4e-adfd9cc2a640",
   "metadata": {},
   "outputs": [
    {
     "name": "stdin",
     "output_type": "stream",
     "text": [
      "Please enter your favorite color here blue\n",
      "Please enter your favorite number here 10\n"
     ]
    },
    {
     "name": "stdout",
     "output_type": "stream",
     "text": [
      "Great Choice!\n"
     ]
    }
   ],
   "source": [
    "color = input(\"Please enter your favorite color here\")\n",
    "number = input(\"Please enter your favorite number here\")\n",
    "    \n",
    "if color.lower() == \"blue\" and number == \"10\":\n",
    "    print(\"Great Choice!\")\n",
    "else: \n",
    "    print(\"Nice Selection\")"
   ]
  },
  {
   "cell_type": "markdown",
   "id": "aaa826dc-90d6-4e60-af87-5a3f5931451a",
   "metadata": {},
   "source": [
    "Task 3: Nested Conditionals\n",
    "# Create a program that takes a number as input and categorizes it as positive, negative, or zero.\n",
    "# If the number is positive, further check if it is even or odd."
   ]
  },
  {
   "cell_type": "code",
   "execution_count": 61,
   "id": "2ef3e9b0-b212-4a16-a670-37a960d2c15f",
   "metadata": {},
   "outputs": [
    {
     "name": "stdin",
     "output_type": "stream",
     "text": [
      "Please enter a number here 5\n"
     ]
    },
    {
     "name": "stdout",
     "output_type": "stream",
     "text": [
      "Positive number\n"
     ]
    }
   ],
   "source": [
    "number = float(input(\"Please enter a number here\"))\n",
    "if number >= 1:\n",
    "    print(\"Positive number\")\n",
    "elif number == 0:\n",
    "    print(\"Zero\")\n",
    "elif number <= -1:\n",
    "    print(\"Negative\")"
   ]
  },
  {
   "cell_type": "markdown",
   "id": "834dae3e-b44f-4ccb-89c8-1c8e34bd586e",
   "metadata": {},
   "source": [
    "Task 4: While True Loop with Boolean Comparisons\n",
    "# Write a program that asks for a password and keeps asking until the correct password is entered.\n",
    "# Also, limit the number of attempts to 3."
   ]
  },
  {
   "cell_type": "code",
   "execution_count": 64,
   "id": "037985e3-aa32-477e-b54c-5d616a646b0d",
   "metadata": {},
   "outputs": [
    {
     "name": "stdin",
     "output_type": "stream",
     "text": [
      "Please enter your password here moses\n"
     ]
    },
    {
     "name": "stdout",
     "output_type": "stream",
     "text": [
      "Incorrect password! You have 2 attempts left!\n"
     ]
    },
    {
     "name": "stdin",
     "output_type": "stream",
     "text": [
      "Please enter your password here pizza\n"
     ]
    },
    {
     "name": "stdout",
     "output_type": "stream",
     "text": [
      "You are logged in!\n"
     ]
    }
   ],
   "source": [
    "password = \"pizza\"\n",
    "\n",
    "max_attempts = 3\n",
    "attempt_count = 0\n",
    "\n",
    "while attempt_count < max_attempts: \n",
    "    user_input = input(\"Please enter your password here\")\n",
    "\n",
    "    attempt_count += 1\n",
    "        \n",
    "    if user_input == password:\n",
    "        print(\"You are logged in!\")\n",
    "        break\n",
    "    else: \n",
    "        remaining = max_attempts - attempt_count\n",
    "        if remaining > 0:\n",
    "            print(f\"Incorrect password! You have {remaining} attempts left!\")\n",
    "\n",
    "if attempt_count == max_attempts and user_input != password:\n",
    "    print(\"You have reached too many attempts! Access denied!\")   "
   ]
  },
  {
   "cell_type": "markdown",
   "id": "46ed8879-794f-4a1d-acdc-b6372eb1eb8b",
   "metadata": {},
   "source": [
    "Task 5: For Loop and Ternary Operator\n",
    "# Write a program that prints whether each number in a range from 1 to 20 is even or odd."
   ]
  },
  {
   "cell_type": "code",
   "execution_count": 65,
   "id": "ca813045-4150-4dcf-9490-1be61be881d9",
   "metadata": {},
   "outputs": [
    {
     "name": "stdout",
     "output_type": "stream",
     "text": [
      "Number 1 is odd\n",
      "Number 2 is even\n",
      "Number 3 is odd\n",
      "Number 4 is even\n",
      "Number 5 is odd\n",
      "Number 6 is even\n",
      "Number 7 is odd\n",
      "Number 8 is even\n",
      "Number 9 is odd\n",
      "Number 10 is even\n",
      "Number 11 is odd\n",
      "Number 12 is even\n",
      "Number 13 is odd\n",
      "Number 14 is even\n",
      "Number 15 is odd\n",
      "Number 16 is even\n",
      "Number 17 is odd\n",
      "Number 18 is even\n",
      "Number 19 is odd\n",
      "Number 20 is even\n"
     ]
    }
   ],
   "source": [
    "for num in range(1, 21):\n",
    "    if num % 2 == 0:\n",
    "        print(f\"Number {num} is even\")\n",
    "    elif num % 2 != 0:\n",
    "        print(f\"Number {num} is odd\")"
   ]
  },
  {
   "cell_type": "markdown",
   "id": "9fca1fb3-69fb-4130-aa18-a081b92fb34e",
   "metadata": {},
   "source": [
    "Task 6: Looping with a Condition\n",
    "# Write a program that sums up numbers from 1 to a user-given number using a while loop."
   ]
  },
  {
   "cell_type": "code",
   "execution_count": 66,
   "id": "ddb5a4f0-ed03-4f70-b8c8-62903f916f11",
   "metadata": {},
   "outputs": [
    {
     "name": "stdin",
     "output_type": "stream",
     "text": [
      "Enter a number you want the loop to add 20\n"
     ]
    },
    {
     "name": "stdout",
     "output_type": "stream",
     "text": [
      "The sum of numbers from 1 to 20 is: 210\n"
     ]
    }
   ],
   "source": [
    "user_input = int(input(\"Enter a number you want the loop to add\"))\n",
    "\n",
    "add_start = 1\n",
    "number_store = 0\n",
    "\n",
    "while add_start <= user_input:\n",
    "    number_store += add_start\n",
    "    add_start += 1\n",
    "    \n",
    "print(f\"The sum of numbers from 1 to {user_input} is: {number_store}\")"
   ]
  }
 ],
 "metadata": {
  "kernelspec": {
   "display_name": "Python 3 (ipykernel)",
   "language": "python",
   "name": "python3"
  },
  "language_info": {
   "codemirror_mode": {
    "name": "ipython",
    "version": 3
   },
   "file_extension": ".py",
   "mimetype": "text/x-python",
   "name": "python",
   "nbconvert_exporter": "python",
   "pygments_lexer": "ipython3",
   "version": "3.12.3"
  }
 },
 "nbformat": 4,
 "nbformat_minor": 5
}
