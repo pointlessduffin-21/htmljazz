{
 "cells": [
  {
   "metadata": {},
   "cell_type": "markdown",
   "source": "Assignment-04B: Visualization with Matplotlib and Seaborn on Titanic Dataset",
   "id": "a0147aed9ade97a9"
  },
  {
   "metadata": {},
   "cell_type": "markdown",
   "source": "Task 1: Load the Dataset and Explore",
   "id": "6d173b8c2e23ac51"
  },
  {
   "metadata": {},
   "cell_type": "code",
   "outputs": [],
   "execution_count": null,
   "source": [
    "!pip3 install seaborn\n",
    "import matplotlib.pyplot as plt\n",
    "import seaborn as sns\n",
    "import pandas as pd\n",
    "\n",
    "dataset = \"titanic_dataset.csv\"\n",
    "df = sns.load_dataset(dataset)\n",
    "print(df.head())\n",
    "\n"
   ],
   "id": "3d9ffe2842522618"
  },
  {
   "metadata": {},
   "cell_type": "markdown",
   "source": "Task 2: Visualize Passenger Survival",
   "id": "46ad9b1b0bf37ce9"
  },
  {
   "metadata": {},
   "cell_type": "code",
   "outputs": [],
   "execution_count": null,
   "source": "",
   "id": "7bcc0f97e50cd428"
  },
  {
   "metadata": {},
   "cell_type": "markdown",
   "source": "Task 3: Analyze Passenger Age Distribution",
   "id": "3aed817e00a791f2"
  },
  {
   "metadata": {},
   "cell_type": "code",
   "outputs": [],
   "execution_count": null,
   "source": "",
   "id": "27dc8a8ed51beed1"
  },
  {
   "metadata": {},
   "cell_type": "markdown",
   "source": "Task 4: Explore Class-wise Distribution",
   "id": "32b1f61568207d40"
  },
  {
   "metadata": {},
   "cell_type": "code",
   "outputs": [],
   "execution_count": null,
   "source": "",
   "id": "f230227b850cf8d6"
  },
  {
   "metadata": {},
   "cell_type": "markdown",
   "source": "Task 5: Investigate Fare Distribution",
   "id": "e21949bc758ba47c"
  },
  {
   "metadata": {},
   "cell_type": "code",
   "outputs": [],
   "execution_count": null,
   "source": "",
   "id": "692a1fa4a7075800"
  },
  {
   "metadata": {},
   "cell_type": "markdown",
   "source": "Task 6: Correlation Between Variables",
   "id": "ba01f09352f1abb8"
  },
  {
   "metadata": {},
   "cell_type": "code",
   "outputs": [],
   "execution_count": null,
   "source": "",
   "id": "9315d6d7b062e39a"
  },
  {
   "metadata": {},
   "cell_type": "markdown",
   "source": "Task 7: Visualize Passenger Class and Age",
   "id": "3234eb67474550c9"
  },
  {
   "metadata": {},
   "cell_type": "code",
   "outputs": [],
   "execution_count": null,
   "source": "",
   "id": "43f8c09e265ad88d"
  }
 ],
 "metadata": {},
 "nbformat": 4,
 "nbformat_minor": 5
}
