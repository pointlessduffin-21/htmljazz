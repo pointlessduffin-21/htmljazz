{
 "cells": [
  {
   "cell_type": "markdown",
   "id": "1935e178-4736-470d-a95e-7a9f86dd391e",
   "metadata": {},
   "source": [
    "Task 1: Opening and Reading a File\n",
    "# Write a program that opens a file named sample.txt in read mode and prints its content."
   ]
  },
  {
   "cell_type": "code",
   "execution_count": 8,
   "id": "bc4f97b9-0b95-4d15-b73f-61ac661caf01",
   "metadata": {},
   "outputs": [
    {
     "name": "stdin",
     "output_type": "stream",
     "text": [
      "Enter text file path here:  debt_records.txt\n"
     ]
    },
    {
     "name": "stdout",
     "output_type": "stream",
     "text": [
      "-100\n",
      "-300\n",
      "-50\n",
      "-250\n",
      "\n"
     ]
    }
   ],
   "source": [
    "def file_read(filepath):\n",
    "    file = open(filepath, \"r\")\n",
    "    content = file.read()\n",
    "    return content\n",
    "    file.close()\n",
    "\n",
    "if __name__ == \"__main__\":\n",
    "    user_input = input(\"Enter text file path here: \")\n",
    "    print(file_read(user_input))"
   ]
  },
  {
   "cell_type": "markdown",
   "id": "8c61a15c-1c31-45ac-9702-48ab0120501f",
   "metadata": {},
   "source": [
    "Task 2: Reading a Specific Number of Characters\n",
    "# Modify the previous task to read only the first 10 characters of the file."
   ]
  },
  {
   "cell_type": "code",
   "execution_count": 14,
   "id": "fd33b4e7-6412-4d5d-b954-5f7eba144b75",
   "metadata": {},
   "outputs": [
    {
     "name": "stdin",
     "output_type": "stream",
     "text": [
      "Enter text file path here:  debt_records.txt\n"
     ]
    },
    {
     "name": "stdout",
     "output_type": "stream",
     "text": [
      "-100\n",
      "-300\n",
      "\n"
     ]
    }
   ],
   "source": [
    "def file_read_specific(filepath):\n",
    "    file = open(filepath, \"r\")\n",
    "    content = file.read(10)\n",
    "    return content\n",
    "    file.close()\n",
    "\n",
    "if __name__ == \"__main__\":\n",
    "    user_input = input(\"Enter text file path here: \")\n",
    "    print(file_read_specific(user_input))"
   ]
  },
  {
   "cell_type": "markdown",
   "id": "c8ec2414-c776-4d40-8bbb-a05d163e2252",
   "metadata": {},
   "source": [
    "Task 3: Using .readlines() Method\n",
    "# Write a program that reads all lines of a file into a list and prints them one by one."
   ]
  },
  {
   "cell_type": "code",
   "execution_count": 22,
   "id": "f1889d5e-f6dc-4b56-9b8e-96bc60cac9fe",
   "metadata": {},
   "outputs": [
    {
     "name": "stdin",
     "output_type": "stream",
     "text": [
      "Enter text file path here:  debt_records.txt\n"
     ]
    },
    {
     "name": "stdout",
     "output_type": "stream",
     "text": [
      "['-100\\n', '-300\\n', '-50\\n', '-250\\n']\n"
     ]
    }
   ],
   "source": [
    "def file_read_lines(filepath):\n",
    "    file = open(filepath, \"r\")\n",
    "    content = file.readlines()\n",
    "    return content\n",
    "\n",
    "if __name__ == \"__main__\":\n",
    "    user_input = input(\"Enter text file path here: \")\n",
    "    print(file_read_lines(user_input))"
   ]
  },
  {
   "cell_type": "markdown",
   "id": "52e1b23f-e5cf-43d5-be8f-980fa5cac757",
   "metadata": {},
   "source": [
    "Task 4: Using .readline() Method\n",
    "# Modify the program to read only the first line of the file."
   ]
  },
  {
   "cell_type": "code",
   "execution_count": 23,
   "id": "210a1d8c-c34a-46e9-8b7b-daed8ac0da9c",
   "metadata": {},
   "outputs": [
    {
     "name": "stdin",
     "output_type": "stream",
     "text": [
      "Enter text file path here:  debt_records.txt\n"
     ]
    },
    {
     "name": "stdout",
     "output_type": "stream",
     "text": [
      "-100\n",
      "\n"
     ]
    }
   ],
   "source": [
    "def file_read_one_line(filepath):\n",
    "    file = open(filepath, \"r\")\n",
    "    content = file.readline()\n",
    "    return content\n",
    "\n",
    "if __name__ == \"__main__\":\n",
    "    user_input = input(\"Enter text file path here: \")\n",
    "    print(file_read_one_line(user_input))"
   ]
  },
  {
   "cell_type": "markdown",
   "id": "eceec1a6-6233-4ac1-97b4-f3362d0784d6",
   "metadata": {
    "editable": true,
    "slideshow": {
     "slide_type": ""
    },
    "tags": []
   },
   "source": [
    "Task 5: Using .strip() Method with Arguments\n",
    "# Given a file with extra spaces or newlines, read its content and remove unwanted spaces."
   ]
  },
  {
   "cell_type": "code",
   "execution_count": 30,
   "id": "ee071181-4a4c-4302-8c7a-c9649925b0fd",
   "metadata": {
    "editable": true,
    "slideshow": {
     "slide_type": ""
    },
    "tags": []
   },
   "outputs": [
    {
     "name": "stdout",
     "output_type": "stream",
     "text": [
      "Pyhton is fun\n",
      "File handling is easy\n",
      "Practice makes perfect\n"
     ]
    }
   ],
   "source": [
    "def file_read_strip(filepath):\n",
    "    with open(filepath, \"r\") as file:\n",
    "        for line in file:\n",
    "            print(' '.join(line.strip().split()))\n",
    "\n",
    "if __name__ == \"__main__\":\n",
    "    user_input = \"sample.txt\"\n",
    "    file_read_strip(user_input)"
   ]
  }
 ],
 "metadata": {
  "kernelspec": {
   "display_name": "Python 3 (ipykernel)",
   "language": "python",
   "name": "python3"
  },
  "language_info": {
   "codemirror_mode": {
    "name": "ipython",
    "version": 3
   },
   "file_extension": ".py",
   "mimetype": "text/x-python",
   "name": "python",
   "nbconvert_exporter": "python",
   "pygments_lexer": "ipython3",
   "version": "3.12.3"
  }
 },
 "nbformat": 4,
 "nbformat_minor": 5
}
