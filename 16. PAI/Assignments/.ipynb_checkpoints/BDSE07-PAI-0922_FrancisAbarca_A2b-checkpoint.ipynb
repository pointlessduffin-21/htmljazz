{
 "cells": [
  {
   "cell_type": "markdown",
   "id": "156ae2ea-bfb3-4590-b2b1-dcd898248c3c",
   "metadata": {},
   "source": [
    "Task 1: Creating and Subsettings Lists\n",
    "# Create a list of five programming languages.\n",
    "# Print the first, third, and last elements of the list."
   ]
  },
  {
   "cell_type": "code",
   "execution_count": 9,
   "id": "9cbdc2e2-34dc-436f-9a33-7428528c7596",
   "metadata": {},
   "outputs": [
    {
     "name": "stdout",
     "output_type": "stream",
     "text": [
      "C\n",
      "Python\n",
      "JavaScript\n"
     ]
    }
   ],
   "source": [
    "prog_lang = [ \"C\", \"Java\", \"Python\", \"Rust\", \"JavaScript\" ]\n",
    "\n",
    "print(prog_lang[0])\n",
    "print(prog_lang[2])\n",
    "print(prog_lang[4])"
   ]
  },
  {
   "cell_type": "markdown",
   "id": "244583db-bc2a-4ce2-bbb7-19e688fd7afe",
   "metadata": {},
   "source": [
    "Task 2: Manipulating Lists\n",
    "# Add \"Swift\" and \"Go\" to the list and remove \"Ruby\"."
   ]
  },
  {
   "cell_type": "code",
   "execution_count": 3,
   "id": "2bdd9f7d-fe39-4b35-809d-f1d54e4b1c6d",
   "metadata": {},
   "outputs": [
    {
     "name": "stdout",
     "output_type": "stream",
     "text": [
      "['C', 'Java', 'Python', 'Swift', 'Go', 'JavaScript']\n"
     ]
    }
   ],
   "source": [
    "prog_lang = [ \"C\", \"Java\", \"Python\", \"Ruby\", \"JavaScript\" ]\n",
    "\n",
    "prog_lang.insert(3, \"Swift\")\n",
    "prog_lang.insert(5, \"Go\")\n",
    "prog_lang.remove(\"Ruby\")\n",
    "\n",
    "print(prog_lang)"
   ]
  },
  {
   "cell_type": "markdown",
   "id": "0c18d891-d0ad-4134-8203-f193cb053875",
   "metadata": {},
   "source": [
    "Task 3: Looping Through A List\n",
    "# Write a program that prints each element in the list with its index and length of the name."
   ]
  },
  {
   "cell_type": "code",
   "execution_count": 39,
   "id": "ed761eac-fa1d-48bd-8d4f-660582afeaaa",
   "metadata": {},
   "outputs": [
    {
     "name": "stdout",
     "output_type": "stream",
     "text": [
      "0 cats 4\n",
      "1 dogs 4\n",
      "2 sheep 5\n",
      "3 pig 3\n",
      "4 chicken 7\n"
     ]
    }
   ],
   "source": [
    "animals = [ \"cats\", \"dogs\", \"sheep\", \"pig\", \"chicken\" ]\n",
    "for index, animal_list in enumerate(animals):\n",
    "    print(index, animal_list, len(animal_list))"
   ]
  },
  {
   "cell_type": "markdown",
   "id": "6f8ba66b-cbc2-4a19-a945-1ce3368982ed",
   "metadata": {},
   "source": [
    "Task 4: Checking Membership\n",
    "# Ask the user to enter a language name and check if it exists in the list.\n",
    "# If found, display its index, else print a message that it is not found.s"
   ]
  },
  {
   "cell_type": "code",
   "execution_count": 24,
   "id": "c8fbfb78-6c07-4a6f-8d9d-9fae1d696359",
   "metadata": {},
   "outputs": [
    {
     "name": "stdin",
     "output_type": "stream",
     "text": [
      "Please enter any programming language you can think of rust\n"
     ]
    },
    {
     "name": "stdout",
     "output_type": "stream",
     "text": [
      "Congratulations! rust is inside our list under 3\n"
     ]
    }
   ],
   "source": [
    "prog_lang = [ \"C\", \"Java\", \"Python\", \"Rust\", \"JavaScript\" ]\n",
    "\n",
    "user_input = input(\"Please enter any programming language you can think of\")\n",
    "\n",
    "prog_lang_lower = [lang.lower() for lang in prog_lang]\n",
    "\n",
    "if user_input.lower() in prog_lang_lower:\n",
    "    print(f\"Congratulations! {user_input} is inside our list under {prog_lang_lower.index(user_input)}\")\n",
    "else:\n",
    "    print(f\"Sorry, we couldnt find {user_input} inside our list\")"
   ]
  },
  {
   "cell_type": "markdown",
   "id": "a1cf23e6-95b1-473f-bde4-b488061b1ac5",
   "metadata": {},
   "source": [
    "Task 5: Sorting and Reversing a List"
   ]
  },
  {
   "cell_type": "code",
   "execution_count": 27,
   "id": "81a1951a-388e-46e7-afbd-0298b5ec8b9c",
   "metadata": {},
   "outputs": [
    {
     "name": "stdout",
     "output_type": "stream",
     "text": [
      "['cats', 'chicken', 'dogs', 'pig', 'sheep']\n",
      "['sheep', 'pig', 'dogs', 'chicken', 'cats']\n"
     ]
    }
   ],
   "source": [
    "animals = [ \"cats\", \"dogs\", \"sheep\", \"pig\", \"chicken\" ]\n",
    "\n",
    "# List Sorting\n",
    "animals.sort()\n",
    "print(animals)\n",
    "\n",
    "# List Reverse\n",
    "animals.reverse()\n",
    "print(animals)"
   ]
  },
  {
   "cell_type": "markdown",
   "id": "69185e1a-d023-491b-ae74-ef0004c4df13",
   "metadata": {},
   "source": [
    "Task 6: List Comprehension\n",
    "# Create a list of square numbers for values from 1 to 10 using list comprehension."
   ]
  },
  {
   "cell_type": "code",
   "execution_count": 36,
   "id": "954d04e5-2345-4043-9af4-57fb65549539",
   "metadata": {},
   "outputs": [
    {
     "name": "stdout",
     "output_type": "stream",
     "text": [
      "[1, 4, 9, 16, 25, 36, 49, 64, 81, 100]\n"
     ]
    }
   ],
   "source": [
    "squares = [n**2 for n in range(1, 11)]\n",
    "\n",
    "print(squares)"
   ]
  },
  {
   "cell_type": "markdown",
   "id": "387d7bd2-03fe-4a37-9991-344fc1e4d7af",
   "metadata": {},
   "source": [
    "Task 7: Removing Duplicates from a List\n",
    "# Given a list of numbers with duplicates, remove duplicates and print the unique values."
   ]
  },
  {
   "cell_type": "code",
   "execution_count": 43,
   "id": "b69a2e2d-265e-449c-befc-d13232dea288",
   "metadata": {},
   "outputs": [
    {
     "ename": "TypeError",
     "evalue": "'str' object is not callable",
     "output_type": "error",
     "traceback": [
      "\u001b[31m---------------------------------------------------------------------------\u001b[39m",
      "\u001b[31mTypeError\u001b[39m                                 Traceback (most recent call last)",
      "\u001b[36mCell\u001b[39m\u001b[36m \u001b[39m\u001b[32mIn[43]\u001b[39m\u001b[32m, line 6\u001b[39m\n\u001b[32m      1\u001b[39m numbers = [\u001b[32m1\u001b[39m, \u001b[32m4\u001b[39m, \u001b[32m9\u001b[39m, \u001b[32m16\u001b[39m, \u001b[32m25\u001b[39m, \u001b[32m36\u001b[39m, \u001b[32m49\u001b[39m, \u001b[32m64\u001b[39m, \u001b[32m81\u001b[39m, \u001b[32m100\u001b[39m, \u001b[32m100\u001b[39m, \u001b[32m81\u001b[39m, \u001b[32m21\u001b[39m, \u001b[32m25\u001b[39m]\n\u001b[32m      3\u001b[39m \u001b[38;5;66;03m# identified = set()\u001b[39;00m\n\u001b[32m      4\u001b[39m \u001b[38;5;66;03m# unique = [n for n in numbers if not (n in identified or identified.add(n))]\u001b[39;00m\n\u001b[32m----> \u001b[39m\u001b[32m6\u001b[39m unique = \u001b[38;5;28;43mlist\u001b[39;49m\u001b[43m(\u001b[49m\u001b[38;5;28;43mset\u001b[39;49m\u001b[43m(\u001b[49m\u001b[43mnumbers\u001b[49m\u001b[43m)\u001b[49m\u001b[43m)\u001b[49m\n\u001b[32m      8\u001b[39m \u001b[38;5;28mprint\u001b[39m(\u001b[33mf\u001b[39m\u001b[33m\"\u001b[39m\u001b[33mOriginal: \u001b[39m\u001b[38;5;132;01m{\u001b[39;00mnumbers\u001b[38;5;132;01m}\u001b[39;00m\u001b[33m\"\u001b[39m)\n\u001b[32m      9\u001b[39m \u001b[38;5;28mprint\u001b[39m(\u001b[33mf\u001b[39m\u001b[33m\"\u001b[39m\u001b[33mRemoved Duplicates: \u001b[39m\u001b[38;5;132;01m{\u001b[39;00munique\u001b[38;5;132;01m}\u001b[39;00m\u001b[33m\"\u001b[39m)\n",
      "\u001b[31mTypeError\u001b[39m: 'str' object is not callable"
     ]
    }
   ],
   "source": [
    "numbers = [1, 4, 9, 16, 25, 36, 49, 64, 81, 100, 100, 81, 21, 25]\n",
    "\n",
    "# For JupyterLab\n",
    "# identified = set()\n",
    "# unique = [n for n in numbers if not (n in identified or identified.add(n))]\n",
    "\n",
    "# For Collab\n",
    "unique = list(set(numbers))\n",
    "\n",
    "print(f\"Original: {numbers}\")\n",
    "print(f\"Removed Duplicates: {unique}\")"
   ]
  }
 ],
 "metadata": {
  "kernelspec": {
   "display_name": "Python 3 (ipykernel)",
   "language": "python",
   "name": "python3"
  },
  "language_info": {
   "codemirror_mode": {
    "name": "ipython",
    "version": 3
   },
   "file_extension": ".py",
   "mimetype": "text/x-python",
   "name": "python",
   "nbconvert_exporter": "python",
   "pygments_lexer": "ipython3",
   "version": "3.12.3"
  }
 },
 "nbformat": 4,
 "nbformat_minor": 5
}
