{
 "cells": [
  {
   "cell_type": "markdown",
   "id": "156ae2ea-bfb3-4590-b2b1-dcd898248c3c",
   "metadata": {},
   "source": [
    "Task 1: Creating and Subsettings Lists\n",
    "# Create a list of five programming languages.\n",
    "# Print the first, third, and last elements of the list."
   ]
  },
  {
   "cell_type": "code",
   "execution_count": 2,
   "id": "9cbdc2e2-34dc-436f-9a33-7428528c7596",
   "metadata": {},
   "outputs": [
    {
     "name": "stdout",
     "output_type": "stream",
     "text": [
      "['C', 'Java', 'Python', 'Rust', 'JavaScript']\n"
     ]
    }
   ],
   "source": [
    "def list_creation(list):\n",
    "    print(list)\n",
    "\n",
    "if __name__ == \"__main__\":\n",
    "    programming_languages = [ \"C\", \"Java\", \"Python\", \"Rust\", \"JavaScript\" ]\n",
    "    list_creation(programming_languages)"
   ]
  },
  {
   "cell_type": "markdown",
   "id": "244583db-bc2a-4ce2-bbb7-19e688fd7afe",
   "metadata": {},
   "source": [
    "Task 2: Manipulating Lists\n",
    "# Add \"Swift\" and \"Go\" to the list and remove \"Ruby\"."
   ]
  },
  {
   "cell_type": "code",
   "execution_count": 4,
   "id": "2bdd9f7d-fe39-4b35-809d-f1d54e4b1c6d",
   "metadata": {},
   "outputs": [
    {
     "name": "stdout",
     "output_type": "stream",
     "text": [
      "['C', 'Java', 'Python', 'Rust', 'JavaScript']\n"
     ]
    }
   ],
   "source": [
    "def list_manipulation(list):\n",
    "    print(list)\n",
    "\n",
    "if __name__ == \"__main__\":\n",
    "    programming_languages = [ \"C\", \"Java\", \"Python\", \"Rust\", \"JavaScript\" ]\n",
    "    list_manipulation(programming_languages)"
   ]
  },
  {
   "cell_type": "markdown",
   "id": "0c18d891-d0ad-4134-8203-f193cb053875",
   "metadata": {},
   "source": [
    "Task 3: Looping Through A List\n",
    "# Write a program that prints each element in the list with its index and length of the name."
   ]
  },
  {
   "cell_type": "code",
   "execution_count": 1,
   "id": "ed761eac-fa1d-48bd-8d4f-660582afeaaa",
   "metadata": {},
   "outputs": [
    {
     "name": "stdout",
     "output_type": "stream",
     "text": [
      "cats\n",
      "dogs\n",
      "sheep\n",
      "pig\n",
      "chicken\n"
     ]
    }
   ],
   "source": [
    "def list_looping():\n",
    "    animals = [ \"cats\", \"dogs\", \"sheep\", \"pig\", \"chicken\" ]\n",
    "    for list in animals:\n",
    "        print(list)\n",
    "\n",
    "if __name__ == \"__main__\":\n",
    "    list_looping()"
   ]
  },
  {
   "cell_type": "markdown",
   "id": "6f8ba66b-cbc2-4a19-a945-1ce3368982ed",
   "metadata": {},
   "source": [
    "Task 4: Checking Membership\n",
    "# Ask the user to enter a language name and check if it exists in the list.\n",
    "# If found, display its index, else print a message that it is not found.s"
   ]
  },
  {
   "cell_type": "code",
   "execution_count": null,
   "id": "c8fbfb78-6c07-4a6f-8d9d-9fae1d696359",
   "metadata": {},
   "outputs": [],
   "source": [
    "def membership_check():\n",
    "    print(\"membership_check\")\n",
    "\n",
    "if __name__ == \"__main__\":\n",
    "    membership_check()"
   ]
  },
  {
   "cell_type": "markdown",
   "id": "a1cf23e6-95b1-473f-bde4-b488061b1ac5",
   "metadata": {},
   "source": [
    "Task 5: Sorting and Reversing a List"
   ]
  },
  {
   "cell_type": "code",
   "execution_count": null,
   "id": "81a1951a-388e-46e7-afbd-0298b5ec8b9c",
   "metadata": {},
   "outputs": [],
   "source": [
    "def list_sorting(list):\n",
    "    # sort the list here\n",
    "\n",
    "def list_reverse(list):\n",
    "    # reverse the list logic here\n",
    "\n",
    "if __name__ == \"__main__\":\n",
    "    animals = [ \n",
    "    \n",
    "    list_sorting()\n",
    "    list_reverse()"
   ]
  },
  {
   "cell_type": "markdown",
   "id": "69185e1a-d023-491b-ae74-ef0004c4df13",
   "metadata": {},
   "source": [
    "Task 6: List Comprehension\n",
    "# Create a list of square numbers for values from 1 to 10 using list comprehension."
   ]
  },
  {
   "cell_type": "code",
   "execution_count": null,
   "id": "954d04e5-2345-4043-9af4-57fb65549539",
   "metadata": {},
   "outputs": [],
   "source": [
    "def list_comprehension():\n",
    "    # list comprehension here\n",
    "\n",
    "if __name__ == \"__main__\":\n",
    "    list_comprehension()"
   ]
  },
  {
   "cell_type": "markdown",
   "id": "387d7bd2-03fe-4a37-9991-344fc1e4d7af",
   "metadata": {},
   "source": [
    "Task 7: Removing Duplicates from a List\n",
    "# Given a list of numbers with duplicates, remove duplicates and print the unique values."
   ]
  },
  {
   "cell_type": "code",
   "execution_count": null,
   "id": "b69a2e2d-265e-449c-befc-d13232dea288",
   "metadata": {},
   "outputs": [],
   "source": [
    "def duplicate_removal():\n",
    "    # remove duplicates\n",
    "\n",
    "if __name__ == \"__main__\":\n",
    "    duplicate_removal()"
   ]
  }
 ],
 "metadata": {
  "kernelspec": {
   "display_name": "Python 3 (ipykernel)",
   "language": "python",
   "name": "python3"
  },
  "language_info": {
   "codemirror_mode": {
    "name": "ipython",
    "version": 3
   },
   "file_extension": ".py",
   "mimetype": "text/x-python",
   "name": "python",
   "nbconvert_exporter": "python",
   "pygments_lexer": "ipython3",
   "version": "3.12.3"
  }
 },
 "nbformat": 4,
 "nbformat_minor": 5
}
