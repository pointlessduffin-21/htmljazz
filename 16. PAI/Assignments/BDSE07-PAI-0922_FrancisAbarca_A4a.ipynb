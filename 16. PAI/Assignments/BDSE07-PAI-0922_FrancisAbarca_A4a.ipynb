{
 "cells": [
  {
   "metadata": {},
   "cell_type": "code",
   "outputs": [],
   "execution_count": null,
   "source": "Assignment-04a: Operations on NumPy Arrays",
   "id": "5643a529a41b7a72"
  },
  {
   "metadata": {},
   "cell_type": "markdown",
   "source": "Task 1: Convert Weights to Pounds",
   "id": "48f75d7e107dca0d"
  },
  {
   "metadata": {},
   "cell_type": "code",
   "outputs": [],
   "execution_count": null,
   "source": "",
   "id": "80bbfe6a155b3ed5"
  },
  {
   "metadata": {},
   "cell_type": "markdown",
   "source": "Task 2: Calculate Mean and Median",
   "id": "7d01e98f2c73203d"
  },
  {
   "metadata": {},
   "cell_type": "code",
   "outputs": [],
   "execution_count": null,
   "source": "",
   "id": "7742065617281ff8"
  },
  {
   "metadata": {},
   "cell_type": "markdown",
   "source": "Task 3: Create 2D Array",
   "id": "e5877b819b80b167"
  },
  {
   "metadata": {},
   "cell_type": "code",
   "outputs": [],
   "execution_count": null,
   "source": "",
   "id": "8376c07ad745cf11"
  },
  {
   "metadata": {},
   "cell_type": "markdown",
   "source": "Task 4: Calculate BMI",
   "id": "4fdf79a0ff67f5cb"
  },
  {
   "metadata": {},
   "cell_type": "code",
   "outputs": [],
   "execution_count": null,
   "source": "",
   "id": "86fd7984882a228e"
  },
  {
   "metadata": {},
   "cell_type": "markdown",
   "source": "Task 5: Filter Individuals by BMI",
   "id": "9e33f741dab28d01"
  },
  {
   "metadata": {},
   "cell_type": "code",
   "outputs": [],
   "execution_count": null,
   "source": "",
   "id": "4fcb54fe4e2a3ec"
  }
 ],
 "metadata": {},
 "nbformat": 4,
 "nbformat_minor": 5
}
