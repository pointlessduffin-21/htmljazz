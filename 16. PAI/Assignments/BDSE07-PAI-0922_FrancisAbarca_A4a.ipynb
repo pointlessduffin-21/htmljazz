{
 "cells": [
  {
   "cell_type": "markdown",
   "id": "19dbf672-a99f-4b3d-8e44-9a62b54e4903",
   "metadata": {},
   "source": [
    "Assignment-04a: Operations on NumPy Arrays"
   ]
  },
  {
   "cell_type": "markdown",
   "id": "48f75d7e107dca0d",
   "metadata": {},
   "source": [
    "Task 1: Convert Weights to Pounds"
   ]
  },
  {
   "cell_type": "code",
   "execution_count": 1,
   "id": "80bbfe6a155b3ed5",
   "metadata": {
    "ExecuteTime": {
     "end_time": "2025-04-26T05:19:26.211680Z",
     "start_time": "2025-04-26T05:19:26.069169Z"
    }
   },
   "outputs": [
    {
     "name": "stdout",
     "output_type": "stream",
     "text": [
      "Weights in Pounds:  [132. 121. 176. 198. 165.]\n"
     ]
    }
   ],
   "source": [
    "import numpy as np\n",
    "\n",
    "weight_kg = ([60, 55, 80, 90, 75])\n",
    "arr_weight_kg = np.array(weight_kg)\n",
    "arr_weight_lbs = arr_weight_kg * 2.2\n",
    "print(\"Weights in Pounds: \", arr_weight_lbs)"
   ]
  },
  {
   "cell_type": "markdown",
   "id": "7d01e98f2c73203d",
   "metadata": {},
   "source": [
    "Task 2: Calculate Mean and Median"
   ]
  },
  {
   "cell_type": "code",
   "execution_count": 2,
   "id": "7742065617281ff8",
   "metadata": {
    "ExecuteTime": {
     "end_time": "2025-04-26T05:20:37.220910Z",
     "start_time": "2025-04-26T05:20:37.208285Z"
    }
   },
   "outputs": [
    {
     "name": "stdout",
     "output_type": "stream",
     "text": [
      "Mean:  158.4\n",
      "Median:  165.0\n"
     ]
    }
   ],
   "source": [
    "mean_weight = np.mean(arr_weight_lbs)\n",
    "median_weight = np.median(arr_weight_lbs)\n",
    "print(\"Mean: \", mean_weight)\n",
    "print(\"Median: \", median_weight)"
   ]
  },
  {
   "cell_type": "markdown",
   "id": "e5877b819b80b167",
   "metadata": {},
   "source": [
    "Task 3: Create 2D Array"
   ]
  },
  {
   "cell_type": "code",
   "execution_count": 4,
   "id": "8376c07ad745cf11",
   "metadata": {
    "ExecuteTime": {
     "end_time": "2025-04-26T05:22:27.580776Z",
     "start_time": "2025-04-26T05:22:27.577181Z"
    }
   },
   "outputs": [
    {
     "name": "stdout",
     "output_type": "stream",
     "text": [
      "Person's info:\n",
      " [[  1.15 132.  ]\n",
      " [  1.5  121.  ]\n",
      " [  1.68 176.  ]\n",
      " [  1.8  198.  ]\n",
      " [  1.82 165.  ]]\n"
     ]
    }
   ],
   "source": [
    "arr_height_m = np.array([1.15, 1.50, 1.68, 1.80, 1.82])\n",
    "arr_person_info = np.column_stack((arr_height_m, arr_weight_lbs))\n",
    "print(\"Person's info:\\n\", arr_person_info)"
   ]
  },
  {
   "cell_type": "markdown",
   "id": "4fdf79a0ff67f5cb",
   "metadata": {},
   "source": [
    "Task 4: Calculate BMI"
   ]
  },
  {
   "cell_type": "code",
   "execution_count": 5,
   "id": "86fd7984882a228e",
   "metadata": {
    "ExecuteTime": {
     "end_time": "2025-04-26T05:26:46.975895Z",
     "start_time": "2025-04-26T05:26:46.970104Z"
    }
   },
   "outputs": [
    {
     "name": "stdout",
     "output_type": "stream",
     "text": [
      "BMI values: [45.36862004 24.44444444 28.3446712  27.77777778 22.64219297]\n"
     ]
    }
   ],
   "source": [
    "def bmi_calc(user_info):\n",
    "    h = user_info[:, 0]\n",
    "    w_lbs = user_info[:, 1]\n",
    "    w_kg = w_lbs / 2.2\n",
    "    bmi = w_kg / (h ** 2)\n",
    "    return bmi\n",
    "\n",
    "if __name__ == \"__main__\":\n",
    "    bmi = bmi_calc(arr_person_info)\n",
    "    print(\"BMI values:\", bmi)"
   ]
  },
  {
   "cell_type": "markdown",
   "id": "9e33f741dab28d01",
   "metadata": {},
   "source": [
    "Task 5: Filter Individuals by BMI"
   ]
  },
  {
   "cell_type": "code",
   "execution_count": 6,
   "id": "4fcb54fe4e2a3ec",
   "metadata": {
    "ExecuteTime": {
     "end_time": "2025-04-26T05:28:37.875977Z",
     "start_time": "2025-04-26T05:28:37.872529Z"
    }
   },
   "outputs": [
    {
     "name": "stdout",
     "output_type": "stream",
     "text": [
      "People with BMI > 25:\n",
      " [[  1.15       132.          45.36862004]\n",
      " [  1.68       176.          28.3446712 ]\n",
      " [  1.8        198.          27.77777778]]\n"
     ]
    }
   ],
   "source": [
    "arr_person_info_with_bmi = np.column_stack((arr_person_info, bmi))\n",
    "filter_by_less = arr_person_info_with_bmi[arr_person_info_with_bmi[:, 2] > 25]\n",
    "print(\"People with BMI > 25:\\n\", filter_by_less)"
   ]
  }
 ],
 "metadata": {
  "kernelspec": {
   "display_name": "Python 3 (ipykernel)",
   "language": "python",
   "name": "python3"
  },
  "language_info": {
   "codemirror_mode": {
    "name": "ipython",
    "version": 3
   },
   "file_extension": ".py",
   "mimetype": "text/x-python",
   "name": "python",
   "nbconvert_exporter": "python",
   "pygments_lexer": "ipython3",
   "version": "3.12.3"
  }
 },
 "nbformat": 4,
 "nbformat_minor": 5
}
