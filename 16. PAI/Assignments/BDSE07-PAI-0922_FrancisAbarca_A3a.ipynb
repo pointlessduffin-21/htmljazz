{
 "cells": [
  {
   "cell_type": "markdown",
   "id": "b5b5d4e1-ae1e-4970-93b9-bad7677e368c",
   "metadata": {},
   "source": [
    "Task 1: Creating and Calling Functions\n",
    "# Write a function greet_user that takes a name as input and prints a greeting message."
   ]
  },
  {
   "cell_type": "code",
   "id": "597b8706-f6b4-41e1-8bb2-061806198b0e",
   "metadata": {
    "ExecuteTime": {
     "end_time": "2025-04-26T04:57:11.181706Z",
     "start_time": "2025-04-26T04:57:02.425928Z"
    }
   },
   "source": [
    "def greet_user(name):\n",
    "    return \"Hello \" + name + \"! Nice to see you!\"\n",
    "\n",
    "if __name__ == \"__main__\":\n",
    "    user_input = input(\"Enter your name\")\n",
    "    print(greet_user(user_input))"
   ],
   "outputs": [
    {
     "name": "stdout",
     "output_type": "stream",
     "text": [
      "Hello Moses Zachary! Nice to see you!\n"
     ]
    }
   ],
   "execution_count": 1
  },
  {
   "cell_type": "markdown",
   "id": "9b4a0a1b-3a79-4d7f-97e6-6a07d52eb318",
   "metadata": {},
   "source": [
    "Task 2: Function with Return Value\n",
    "# Write a function square_number that takes a number as input and returns its square."
   ]
  },
  {
   "cell_type": "code",
   "execution_count": 21,
   "id": "1c5fa348-f46d-4b3d-938b-7d1c213d5e9d",
   "metadata": {},
   "outputs": [
    {
     "name": "stdin",
     "output_type": "stream",
     "text": [
      "Enter a number:  5\n"
     ]
    },
    {
     "name": "stdout",
     "output_type": "stream",
     "text": [
      "25\n"
     ]
    }
   ],
   "source": [
    "def square(num):\n",
    "    result = num * num\n",
    "    return result\n",
    "\n",
    "if __name__ == \"__main__\":\n",
    "    user_input = int(input(\"Enter a number: \"))\n",
    "    print(square(user_input))"
   ]
  },
  {
   "cell_type": "markdown",
   "id": "1a7c6dc9-ec48-4a41-b469-a788e9e41728",
   "metadata": {},
   "source": [
    "Task 3: Using Methods on Strings\n",
    "# Given a string, use string methods to convert it to uppercase, lowercase, and check if it starts with a specific word."
   ]
  },
  {
   "cell_type": "code",
   "execution_count": 2,
   "id": "b5851c6b-5eb2-4b16-804b-8d18274575f3",
   "metadata": {},
   "outputs": [
    {
     "name": "stdin",
     "output_type": "stream",
     "text": [
      "Enter your name here:  Moses Zachary\n"
     ]
    },
    {
     "name": "stdout",
     "output_type": "stream",
     "text": [
      "MOSES ZACHARY\n",
      "moses zachary\n",
      "Hi Moses! We're glad to see you!\n"
     ]
    }
   ],
   "source": [
    "def string_manipulation_upper(name):\n",
    "    return name.upper()\n",
    "\n",
    "def string_manipulation_lower(name):\n",
    "    return name.lower()\n",
    "\n",
    "def string_manipulation_checker(name):\n",
    "    if name.lower().startswith(\"moses\"):\n",
    "        return \"Hi Moses! We're glad to see you!\"\n",
    "    else:\n",
    "        return \"Hello, \" + name + \"!\"\n",
    "\n",
    "if __name__ == \"__main__\":\n",
    "    user_input = input(\"Enter your name here: \")\n",
    "    print(string_manipulation_upper(user_input))\n",
    "    print(string_manipulation_lower(user_input))\n",
    "    print(string_manipulation_checker(user_input))"
   ]
  },
  {
   "cell_type": "markdown",
   "id": "c4f9b1ef-6b6c-408f-9ebd-d7151d18da55",
   "metadata": {},
   "source": [
    "Task 4: Using Methods on Lists\n",
    "# Create a list of numbers and demonstrate append(), remove(), and sort() methods."
   ]
  },
  {
   "cell_type": "code",
   "execution_count": 32,
   "id": "4d1a8be9-e245-475c-883f-3b1ac6ff3d66",
   "metadata": {},
   "outputs": [
    {
     "name": "stdout",
     "output_type": "stream",
     "text": [
      "['1', '3', '5', '7', '8', '9', '90', '91', '99']\n"
     ]
    }
   ],
   "source": [
    "def list(array_list):\n",
    "    array_list.insert(8,\"99\")\n",
    "    array_list.append(\"91\") \n",
    "    array_list.remove(\"82\")\n",
    "    array_list.sort()\n",
    "    return array_list\n",
    "\n",
    "if __name__ == \"__main__\":\n",
    "    # Change this list to numbers\n",
    "    number = [ \"5\", \"9\", \"90\", \"82\", \"1\", \"3\", \"7\", \"8\" ]\n",
    "    print(list(number))"
   ]
  },
  {
   "cell_type": "code",
   "execution_count": null,
   "id": "4ca468ac-6b95-4a0a-b849-0f1a76f67eb0",
   "metadata": {},
   "outputs": [],
   "source": [
    "Task 5: Working with Packages\n",
    "# Import the math package and use its methods to find the square root and factorial of a given number."
   ]
  },
  {
   "cell_type": "code",
   "execution_count": 19,
   "id": "d45e1c5c-e710-43e8-9294-f61f1e18bae6",
   "metadata": {},
   "outputs": [
    {
     "name": "stdin",
     "output_type": "stream",
     "text": [
      "Enter a number here:  64\n"
     ]
    },
    {
     "name": "stdout",
     "output_type": "stream",
     "text": [
      "8.0\n",
      "126886932185884164103433389335161480802865516174545192198801894375214704230400000000000000\n"
     ]
    }
   ],
   "source": [
    "import math\n",
    "\n",
    "def square_math(num):\n",
    "    # Insert logic here for square root and factorial\n",
    "    result = math.sqrt(num)\n",
    "    return result\n",
    "\n",
    "def factorial_math(num):\n",
    "    # Insert logic here for factorial\n",
    "    result = math.factorial(num)\n",
    "    return result\n",
    "\n",
    "if __name__ == \"__main__\":\n",
    "    user_input = int(input(\"Enter a number here: \"))\n",
    "    print(square_math(user_input))\n",
    "    print(factorial_math(user_input))"
   ]
  }
 ],
 "metadata": {
  "kernelspec": {
   "display_name": "Python 3 (ipykernel)",
   "language": "python",
   "name": "python3"
  },
  "language_info": {
   "codemirror_mode": {
    "name": "ipython",
    "version": 3
   },
   "file_extension": ".py",
   "mimetype": "text/x-python",
   "name": "python",
   "nbconvert_exporter": "python",
   "pygments_lexer": "ipython3",
   "version": "3.12.3"
  }
 },
 "nbformat": 4,
 "nbformat_minor": 5
}
